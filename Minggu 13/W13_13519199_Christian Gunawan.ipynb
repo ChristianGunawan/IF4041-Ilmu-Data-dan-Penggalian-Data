{
 "cells": [
  {
   "cell_type": "code",
   "execution_count": 17,
   "metadata": {},
   "outputs": [],
   "source": [
    "# Library\n",
    "import numpy as np\n",
    "import pandas as pd\n",
    "import matplotlib.pyplot as plt\n",
    "%matplotlib inline\n",
    "from keras.datasets import mnist\n",
    "from keras.models import Sequential\n",
    "from keras.layers import Dense, Dropout, Activation, Flatten\n",
    "from tensorflow.keras.optimizers import Adam\n",
    "from tensorflow.keras.layers import BatchNormalization\n",
    "from keras.utils import np_utils\n",
    "from keras.layers import Conv2D, MaxPooling2D, ZeroPadding2D, GlobalAveragePooling2D\n",
    "from keras.layers.advanced_activations import LeakyReLU \n",
    "from keras.preprocessing.image import ImageDataGenerator"
   ]
  },
  {
   "cell_type": "code",
   "execution_count": 18,
   "metadata": {},
   "outputs": [
    {
     "name": "stdout",
     "output_type": "stream",
     "text": [
      "X_train original shape (60000, 28, 28)\n",
      "y_train original shape (60000,)\n",
      "X_test original shape (10000, 28, 28)\n",
      "y_test original shape (10000,)\n"
     ]
    }
   ],
   "source": [
    "# Load Data\n",
    "(X_train, y_train), (X_test, y_test) = mnist.load_data()\n",
    "\n",
    "# Data Preprocessing\n",
    "print(\"X_train original shape\", X_train.shape)\n",
    "print(\"y_train original shape\", y_train.shape)\n",
    "print(\"X_test original shape\", X_test.shape)\n",
    "print(\"y_test original shape\", y_test.shape)"
   ]
  },
  {
   "cell_type": "code",
   "execution_count": 19,
   "metadata": {},
   "outputs": [
    {
     "data": {
      "text/plain": [
       "Text(0.5, 1.0, 'Class 5')"
      ]
     },
     "execution_count": 19,
     "metadata": {},
     "output_type": "execute_result"
    },
    {
     "data": {
      "image/png": "[encoded data removed]",
      "text/plain": [
       "<Figure size 432x288 with 1 Axes>"
      ]
     },
     "metadata": {
      "needs_background": "light"
     },
     "output_type": "display_data"
    }
   ],
   "source": [
    "# Reshape\n",
    "plt.imshow(X_train[0], cmap='gray')\n",
    "plt.title('Class '+ str(y_train[0]))"
   ]
  },
  {
   "cell_type": "code",
   "execution_count": 20,
   "metadata": {},
   "outputs": [
    {
     "data": {
      "text/plain": [
       "(60000, 28, 28, 1)"
      ]
     },
     "execution_count": 20,
     "metadata": {},
     "output_type": "execute_result"
    }
   ],
   "source": [
    "# Reshape data to fit model\n",
    "X_train = X_train.reshape(X_train.shape[0], 28, 28, 1) \n",
    "X_test = X_test.reshape(X_test.shape[0], 28, 28, 1)\n",
    "\n",
    "# Change to float datatype and normalize\n",
    "X_train = X_train.astype('float32')\n",
    "X_test = X_test.astype('float32')\n",
    "\n",
    "# Normalize\n",
    "X_train/=255\n",
    "X_test/=255\n",
    "\n",
    "X_train.shape"
   ]
  },
  {
   "cell_type": "code",
   "execution_count": 21,
   "metadata": {},
   "outputs": [
    {
     "data": {
      "text/plain": [
       "(5, array([0., 0., 0., 0., 0., 1., 0., 0., 0., 0.], dtype=float32))"
      ]
     },
     "execution_count": 21,
     "metadata": {},
     "output_type": "execute_result"
    }
   ],
   "source": [
    "number_of_classes = 10 \n",
    "\n",
    "Y_train = np_utils.to_categorical(y_train, number_of_classes)\n",
    "Y_test = np_utils.to_categorical(y_test, number_of_classes)\n",
    "\n",
    "y_train[0], Y_train[0]"
   ]
  },
  {
   "cell_type": "code",
   "execution_count": 22,
   "metadata": {},
   "outputs": [],
   "source": [
    "model = Sequential() # Sequential model\n",
    "\n",
    "model.add(Conv2D(32, (3, 3), input_shape=(28,28,1))) # Konvolusi layer dengan 32 filter 3x3\n",
    "model.add(Activation('relu')) # Menggunakan relu sebagai activation function\n",
    "BatchNormalization(axis=-1) # Batch Normalization sebelum dilewatkan ke layer berikutnya\n",
    "model.add(Conv2D(32, (3, 3))) # # Konvolusi layer dengan 32 filter 3x3\n",
    "model.add(Activation('relu')) # Menggunakan relu sebagai activation function\n",
    "model.add(MaxPooling2D(pool_size=(2,2))) # Max Pooling dengan ukuran 2x2 untuk memilih fitur terbaik\n",
    "\n",
    "BatchNormalization(axis=-1) # Batch Normalization sebelum dilewatkan ke layer berikutnya\n",
    "model.add(Conv2D(64,(3, 3))) # Konvolusi layer dengan 64 filter 3x3\n",
    "model.add(Activation('relu')) # Menggunakan relu sebagai activation function\n",
    "BatchNormalization(axis=-1) # Batch Normalization sebelum dilewatkan ke layer berikutnya\n",
    "model.add(Conv2D(64, (3, 3))) # Konvolusi layer dengan 64 filter 3x3\n",
    "model.add(Activation('relu')) # Menggunakan relu sebagai activation function\n",
    "model.add(MaxPooling2D(pool_size=(2,2))) # Max Pooling dengan ukuran 2x2 untuk memilih fitur terbaik \n",
    "\n",
    "model.add(Flatten()) # Flatten untuk mengubah input menjadi 1 dimensi\n",
    "\n",
    "\n",
    "# Fully connected layer\n",
    "BatchNormalization() # Batch Normalization sebelum dilewatkan ke layer berikutnya\n",
    "model.add(Dense(512)) # Dense layer dengan 512 neuron\n",
    "model.add(Activation('relu')) # Menggunakan relu sebagai activation function\n",
    "BatchNormalization() # Batch Normalization sebelum dilewatkan ke layer berikutnya\n",
    "model.add(Dropout(0.2)) # Drouput untuk menghindari overfitting  \n",
    "model.add(Dense(10)) # Dense untuk menghasilkan output 10 kelas \n",
    "\n",
    "model.add(Activation('softmax')) # Menggunakan softmax sebagai activation function pada output"
   ]
  },
  {
   "cell_type": "code",
   "execution_count": 23,
   "metadata": {},
   "outputs": [
    {
     "name": "stdout",
     "output_type": "stream",
     "text": [
      "Model: \"sequential_1\"\n",
      "_________________________________________________________________\n",
      " Layer (type)                Output Shape              Param #   \n",
      "=================================================================\n",
      " conv2d_4 (Conv2D)           (None, 26, 26, 32)        320       \n",
      "                                                                 \n",
      " activation_6 (Activation)   (None, 26, 26, 32)        0         \n",
      "                                                                 \n",
      " conv2d_5 (Conv2D)           (None, 24, 24, 32)        9248      \n",
      "                                                                 \n",
      " activation_7 (Activation)   (None, 24, 24, 32)        0         \n",
      "                                                                 \n",
      " max_pooling2d_2 (MaxPooling  (None, 12, 12, 32)       0         \n",
      " 2D)                                                             \n",
      "                                                                 \n",
      " conv2d_6 (Conv2D)           (None, 10, 10, 64)        18496     \n",
      "                                                                 \n",
      " activation_8 (Activation)   (None, 10, 10, 64)        0         \n",
      "                                                                 \n",
      " conv2d_7 (Conv2D)           (None, 8, 8, 64)          36928     \n",
      "                                                                 \n",
      " activation_9 (Activation)   (None, 8, 8, 64)          0         \n",
      "                                                                 \n",
      " max_pooling2d_3 (MaxPooling  (None, 4, 4, 64)         0         \n",
      " 2D)                                                             \n",
      "                                                                 \n",
      " flatten_1 (Flatten)         (None, 1024)              0         \n",
      "                                                                 \n",
      " dense_2 (Dense)             (None, 512)               524800    \n",
      "                                                                 \n",
      " activation_10 (Activation)  (None, 512)               0         \n",
      "                                                                 \n",
      " dropout_1 (Dropout)         (None, 512)               0         \n",
      "                                                                 \n",
      " dense_3 (Dense)             (None, 10)                5130      \n",
      "                                                                 \n",
      " activation_11 (Activation)  (None, 10)                0         \n",
      "                                                                 \n",
      "=================================================================\n",
      "Total params: 594,922\n",
      "Trainable params: 594,922\n",
      "Non-trainable params: 0\n",
      "_________________________________________________________________\n"
     ]
    }
   ],
   "source": [
    "model.summary() # Menampilkan summary dari model"
   ]
  },
  {
   "cell_type": "code",
   "execution_count": 24,
   "metadata": {},
   "outputs": [],
   "source": [
    "model.compile(loss='categorical_crossentropy', optimizer=Adam(), metrics=['accuracy']) # Kompilasi model dengan loss function categorical_crossentropy, optimizer Adam, dan metrics accuracy"
   ]
  },
  {
   "cell_type": "code",
   "execution_count": 25,
   "metadata": {},
   "outputs": [],
   "source": [
    "gen = ImageDataGenerator(rotation_range=8, width_shift_range=0.08, shear_range=0.3,\n",
    "                         height_shift_range=0.08, zoom_range=0.08) # Data Augmentation \n",
    "\n",
    "test_gen = ImageDataGenerator() # Data Augmentation"
   ]
  },
  {
   "cell_type": "code",
   "execution_count": 26,
   "metadata": {},
   "outputs": [],
   "source": [
    "train_generator = gen.flow(X_train, Y_train, batch_size=64) # Generate data untuk training\n",
    "test_generator = test_gen.flow(X_test, Y_test, batch_size=64) # Generate data untuk testing"
   ]
  },
  {
   "cell_type": "code",
   "execution_count": 27,
   "metadata": {},
   "outputs": [
    {
     "name": "stdout",
     "output_type": "stream",
     "text": [
      "Epoch 1/5\n"
     ]
    },
    {
     "name": "stderr",
     "output_type": "stream",
     "text": [
      "C:\\Users\\Christian\\AppData\\Local\\Temp/ipykernel_1744/3606109085.py:3: UserWarning: `Model.fit_generator` is deprecated and will be removed in a future version. Please use `Model.fit`, which supports generators.\n",
      "  model.fit_generator(train_generator, steps_per_epoch=60000//64, epochs=5,\n"
     ]
    },
    {
     "name": "stdout",
     "output_type": "stream",
     "text": [
      "937/937 [==============================] - 89s 95ms/step - loss: 0.2091 - accuracy: 0.9337 - val_loss: 0.0302 - val_accuracy: 0.9897\n",
      "Epoch 2/5\n",
      "937/937 [==============================] - 87s 93ms/step - loss: 0.0645 - accuracy: 0.9804 - val_loss: 0.0256 - val_accuracy: 0.9919\n",
      "Epoch 3/5\n",
      "937/937 [==============================] - 99s 106ms/step - loss: 0.0485 - accuracy: 0.9853 - val_loss: 0.0202 - val_accuracy: 0.9932\n",
      "Epoch 4/5\n",
      "937/937 [==============================] - 101s 107ms/step - loss: 0.0419 - accuracy: 0.9874 - val_loss: 0.0185 - val_accuracy: 0.9943\n",
      "Epoch 5/5\n",
      "937/937 [==============================] - 103s 110ms/step - loss: 0.0361 - accuracy: 0.9890 - val_loss: 0.0156 - val_accuracy: 0.9950\n"
     ]
    },
    {
     "data": {
      "text/plain": [
       "<keras.callbacks.History at 0x1c635063130>"
      ]
     },
     "execution_count": 27,
     "metadata": {},
     "output_type": "execute_result"
    }
   ],
   "source": [
    "model.fit_generator(train_generator, steps_per_epoch=60000//64, epochs=5, \n",
    "                    validation_data=test_generator, validation_steps=10000//64) # Training model dengan data generator"
   ]
  },
  {
   "cell_type": "code",
   "execution_count": 28,
   "metadata": {},
   "outputs": [
    {
     "name": "stdout",
     "output_type": "stream",
     "text": [
      "313/313 [==============================] - 4s 12ms/step - loss: 0.0156 - accuracy: 0.9950\n",
      "\n",
      "Test accuracy:  0.9950000047683716\n"
     ]
    }
   ],
   "source": [
    "score = model.evaluate(X_test, Y_test) # Evaluasi model\n",
    "print() # Print hasil evaluasi\n",
    "print('Test accuracy: ', score[1]) # Print akurasi"
   ]
  },
  {
   "cell_type": "code",
   "execution_count": 37,
   "metadata": {},
   "outputs": [],
   "source": [
    "# Lesson Learned\n",
    "# 1. Tingkat akurasi yang didapat lebih tinggi dibandingkan dengan model lainnya karena menggunakan data augmentation\n",
    "# 3. RNN dapat digunakan untuk mengklasifikasikan gambar dengan hasil yang lebih baik"
   ]
  },
  {
   "cell_type": "code",
   "execution_count": 39,
   "metadata": {},
   "outputs": [],
   "source": [
    "# Insight  \n",
    "# 1. Data augmentation dapat digunakan untuk meningkatkan akurasi model dan mengurangi overfitting\n"
   ]
  },
  {
   "cell_type": "code",
   "execution_count": 40,
   "metadata": {},
   "outputs": [],
   "source": [
    "# Summary\n",
    "# 1. Dari hasil yang didapat, dapat disimpulkan bahwa model CNN dapat digunakan untuk mengklasifikasikan gambar dengan hasil yang lebih baik dibandingkan dengan model RNN dan dengan bantuan data augmentation dapat meningkatkan akurasi model dan mengurangi overfitting"
   ]
  },
  {
   "cell_type": "code",
   "execution_count": null,
   "metadata": {},
   "outputs": [],
   "source": [
    "# Reference\n",
    "# 1. https://www.tensorflow.org/api_docs/python/tf/keras/datasets/mnist\n",
    "# 2. https://www.tensorflow.org/api_docs/python/tf/keras/preprocessing/image/ImageDataGenerator\n",
    "# 3. https://www.tensorflow.org/api_docs/python/tf/keras/Model\n"
   ]
  }
 ],
 "metadata": {
  "kernelspec": {
   "display_name": "Python 3.10.1 64-bit",
   "language": "python",
   "name": "python3"
  },
  "language_info": {
   "codemirror_mode": {
    "name": "ipython",
    "version": 3
   },
   "file_extension": ".py",
   "mimetype": "text/x-python",
   "name": "python",
   "nbconvert_exporter": "python",
   "pygments_lexer": "ipython3",
   "version": "3.10.1"
  },
  "orig_nbformat": 4,
  "vscode": {
   "interpreter": {
    "hash": "8d7b29c11531fae1356186f465b4a02c5cd851170419d5c64ecda1b4084a8c20"
   }
  }
 },
 "nbformat": 4,
 "nbformat_minor": 2
}
